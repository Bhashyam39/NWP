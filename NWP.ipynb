{
 "cells": [
  {
   "cell_type": "markdown",
   "metadata": {},
   "source": [
    "# Next Word Prediction"
   ]
  },
  {
   "cell_type": "code",
   "execution_count": 1,
   "metadata": {},
   "outputs": [
    {
     "name": "stdout",
     "output_type": "stream",
     "text": [
      "WARNING:tensorflow:From c:\\Users\\sbhas\\AppData\\Local\\Programs\\Python\\Python311\\Lib\\site-packages\\keras\\src\\losses.py:2976: The name tf.losses.sparse_softmax_cross_entropy is deprecated. Please use tf.compat.v1.losses.sparse_softmax_cross_entropy instead.\n",
      "\n"
     ]
    }
   ],
   "source": [
    "import numpy as np\n",
    "import tensorflow as tf\n",
    "from keras.preprocessing.text import Tokenizer\n",
    "from keras.preprocessing.sequence import pad_sequences\n",
    "from keras.models import Sequential\n",
    "from keras.layers import Embedding,LSTM,Dense"
   ]
  },
  {
   "cell_type": "code",
   "execution_count": 2,
   "metadata": {},
   "outputs": [],
   "source": [
    "with open('input.txt','r',encoding=\"utf-8\") as file:\n",
    "    text = file.read()"
   ]
  },
  {
   "cell_type": "code",
   "execution_count": 3,
   "metadata": {},
   "outputs": [],
   "source": [
    "tokenizer = Tokenizer()\n",
    "tokenizer.fit_on_texts([text])\n",
    "total_word = len(tokenizer.word_index) + 1"
   ]
  },
  {
   "cell_type": "code",
   "execution_count": 4,
   "metadata": {},
   "outputs": [],
   "source": [
    "input_sequence = []\n",
    "for line in text.split('\\n'):\n",
    "    token_list = tokenizer.texts_to_sequences([line])[0]\n",
    "    for i in range(1,len(token_list)):\n",
    "        n_gram_sequence = token_list[:i+1]\n",
    "        input_sequence.append(n_gram_sequence)"
   ]
  },
  {
   "cell_type": "code",
   "execution_count": 5,
   "metadata": {},
   "outputs": [],
   "source": [
    "max_sequence_len = max([len(seq) for seq in input_sequence])\n",
    "input_sequence = np.array(pad_sequences(input_sequence,maxlen=max_sequence_len,padding='pre'))"
   ]
  },
  {
   "cell_type": "code",
   "execution_count": 6,
   "metadata": {},
   "outputs": [],
   "source": [
    "X = input_sequence[:,:-1]\n",
    "y = input_sequence[:,-1]"
   ]
  },
  {
   "cell_type": "code",
   "execution_count": 7,
   "metadata": {},
   "outputs": [],
   "source": [
    "y = np.array(tf.keras.utils.to_categorical(y,num_classes=total_word))"
   ]
  },
  {
   "cell_type": "code",
   "execution_count": 8,
   "metadata": {},
   "outputs": [
    {
     "name": "stdout",
     "output_type": "stream",
     "text": [
      "WARNING:tensorflow:From c:\\Users\\sbhas\\AppData\\Local\\Programs\\Python\\Python311\\Lib\\site-packages\\keras\\src\\backend.py:873: The name tf.get_default_graph is deprecated. Please use tf.compat.v1.get_default_graph instead.\n",
      "\n",
      "Model: \"sequential\"\n",
      "_________________________________________________________________\n",
      " Layer (type)                Output Shape              Param #   \n",
      "=================================================================\n",
      " embedding (Embedding)       (None, 17, 100)           820000    \n",
      "                                                                 \n",
      " lstm (LSTM)                 (None, 150)               150600    \n",
      "                                                                 \n",
      " dense (Dense)               (None, 8200)              1238200   \n",
      "                                                                 \n",
      "=================================================================\n",
      "Total params: 2208800 (8.43 MB)\n",
      "Trainable params: 2208800 (8.43 MB)\n",
      "Non-trainable params: 0 (0.00 Byte)\n",
      "_________________________________________________________________\n"
     ]
    }
   ],
   "source": [
    "model = Sequential()\n",
    "model.add(Embedding(total_word,100,input_length = max_sequence_len - 1))\n",
    "model.add(LSTM(150))\n",
    "model.add(Dense(total_word,activation = 'softmax'))\n",
    "model.summary()"
   ]
  },
  {
   "cell_type": "code",
   "execution_count": 9,
   "metadata": {},
   "outputs": [
    {
     "name": "stdout",
     "output_type": "stream",
     "text": [
      "WARNING:tensorflow:From c:\\Users\\sbhas\\AppData\\Local\\Programs\\Python\\Python311\\Lib\\site-packages\\keras\\src\\optimizers\\__init__.py:309: The name tf.train.Optimizer is deprecated. Please use tf.compat.v1.train.Optimizer instead.\n",
      "\n",
      "Epoch 1/100\n",
      "WARNING:tensorflow:From c:\\Users\\sbhas\\AppData\\Local\\Programs\\Python\\Python311\\Lib\\site-packages\\keras\\src\\utils\\tf_utils.py:492: The name tf.ragged.RaggedTensorValue is deprecated. Please use tf.compat.v1.ragged.RaggedTensorValue instead.\n",
      "\n",
      "WARNING:tensorflow:From c:\\Users\\sbhas\\AppData\\Local\\Programs\\Python\\Python311\\Lib\\site-packages\\keras\\src\\engine\\base_layer_utils.py:384: The name tf.executing_eagerly_outside_functions is deprecated. Please use tf.compat.v1.executing_eagerly_outside_functions instead.\n",
      "\n",
      "3010/3010 [==============================] - 130s 42ms/step - loss: 6.2396 - accuracy: 0.0775\n",
      "Epoch 2/100\n",
      "3010/3010 [==============================] - 147s 49ms/step - loss: 5.5105 - accuracy: 0.1243\n",
      "Epoch 3/100\n",
      "3010/3010 [==============================] - 150s 50ms/step - loss: 5.1247 - accuracy: 0.1478\n",
      "Epoch 4/100\n",
      "3010/3010 [==============================] - 148s 49ms/step - loss: 4.8001 - accuracy: 0.1646\n",
      "Epoch 5/100\n",
      "3010/3010 [==============================] - 160s 53ms/step - loss: 4.5003 - accuracy: 0.1810\n",
      "Epoch 6/100\n",
      "3010/3010 [==============================] - 129s 43ms/step - loss: 4.2185 - accuracy: 0.2015\n",
      "Epoch 7/100\n",
      "3010/3010 [==============================] - 140s 47ms/step - loss: 3.9498 - accuracy: 0.2269\n",
      "Epoch 8/100\n",
      "3010/3010 [==============================] - 4039s 1s/step - loss: 3.6934 - accuracy: 0.2567\n",
      "Epoch 9/100\n",
      "3010/3010 [==============================] - 58s 19ms/step - loss: 3.4499 - accuracy: 0.2895\n",
      "Epoch 10/100\n",
      "3010/3010 [==============================] - 59s 20ms/step - loss: 3.2229 - accuracy: 0.3233\n",
      "Epoch 11/100\n",
      "3010/3010 [==============================] - 58s 19ms/step - loss: 3.0115 - accuracy: 0.3584\n",
      "Epoch 12/100\n",
      "3010/3010 [==============================] - 121s 40ms/step - loss: 2.8177 - accuracy: 0.3913\n",
      "Epoch 13/100\n",
      "3010/3010 [==============================] - 59s 20ms/step - loss: 2.6392 - accuracy: 0.4266\n",
      "Epoch 14/100\n",
      "3010/3010 [==============================] - 59s 20ms/step - loss: 2.4747 - accuracy: 0.4567\n",
      "Epoch 15/100\n",
      "3010/3010 [==============================] - 59s 20ms/step - loss: 2.3247 - accuracy: 0.4871\n",
      "Epoch 16/100\n",
      "3010/3010 [==============================] - 62s 21ms/step - loss: 2.1847 - accuracy: 0.5167\n",
      "Epoch 17/100\n",
      "3010/3010 [==============================] - 67s 22ms/step - loss: 2.0564 - accuracy: 0.5433\n",
      "Epoch 18/100\n",
      "3010/3010 [==============================] - 61s 20ms/step - loss: 1.9414 - accuracy: 0.5645\n",
      "Epoch 19/100\n",
      "3010/3010 [==============================] - 55s 18ms/step - loss: 1.8329 - accuracy: 0.5895\n",
      "Epoch 20/100\n",
      "3010/3010 [==============================] - 57s 19ms/step - loss: 1.7358 - accuracy: 0.6114\n",
      "Epoch 21/100\n",
      "3010/3010 [==============================] - 94s 31ms/step - loss: 1.6444 - accuracy: 0.6298\n",
      "Epoch 22/100\n",
      "3010/3010 [==============================] - 83s 28ms/step - loss: 1.5614 - accuracy: 0.6470\n",
      "Epoch 23/100\n",
      "3010/3010 [==============================] - 62s 21ms/step - loss: 1.4859 - accuracy: 0.6648\n",
      "Epoch 24/100\n",
      "3010/3010 [==============================] - 62s 20ms/step - loss: 1.4155 - accuracy: 0.6791\n",
      "Epoch 25/100\n",
      "3010/3010 [==============================] - 62s 20ms/step - loss: 1.3493 - accuracy: 0.6938\n",
      "Epoch 26/100\n",
      "3010/3010 [==============================] - 1007s 335ms/step - loss: 1.2886 - accuracy: 0.7081\n",
      "Epoch 27/100\n",
      "3010/3010 [==============================] - 63s 21ms/step - loss: 1.2325 - accuracy: 0.7201\n",
      "Epoch 28/100\n",
      "3010/3010 [==============================] - 63s 21ms/step - loss: 1.1814 - accuracy: 0.7318\n",
      "Epoch 29/100\n",
      "3010/3010 [==============================] - 63s 21ms/step - loss: 1.1368 - accuracy: 0.7410\n",
      "Epoch 30/100\n",
      "3010/3010 [==============================] - 63s 21ms/step - loss: 1.0926 - accuracy: 0.7496\n",
      "Epoch 31/100\n",
      "3010/3010 [==============================] - 63s 21ms/step - loss: 1.0505 - accuracy: 0.7595\n",
      "Epoch 32/100\n",
      "3010/3010 [==============================] - 62s 21ms/step - loss: 1.0159 - accuracy: 0.7674\n",
      "Epoch 33/100\n",
      "3010/3010 [==============================] - 63s 21ms/step - loss: 0.9790 - accuracy: 0.7757\n",
      "Epoch 34/100\n",
      "3010/3010 [==============================] - 63s 21ms/step - loss: 0.9477 - accuracy: 0.7825\n",
      "Epoch 35/100\n",
      "3010/3010 [==============================] - 63s 21ms/step - loss: 0.9187 - accuracy: 0.7884\n",
      "Epoch 36/100\n",
      "3010/3010 [==============================] - 63s 21ms/step - loss: 0.8917 - accuracy: 0.7950\n",
      "Epoch 37/100\n",
      "3010/3010 [==============================] - 63s 21ms/step - loss: 0.8640 - accuracy: 0.8018\n",
      "Epoch 38/100\n",
      "3010/3010 [==============================] - 70s 23ms/step - loss: 0.8439 - accuracy: 0.8045\n",
      "Epoch 39/100\n",
      "3010/3010 [==============================] - 157s 52ms/step - loss: 0.8205 - accuracy: 0.8097\n",
      "Epoch 40/100\n",
      "3010/3010 [==============================] - 159s 53ms/step - loss: 0.7993 - accuracy: 0.8148\n",
      "Epoch 41/100\n",
      "3010/3010 [==============================] - 156s 52ms/step - loss: 0.7820 - accuracy: 0.8172\n",
      "Epoch 42/100\n",
      "3010/3010 [==============================] - 155s 51ms/step - loss: 0.7653 - accuracy: 0.8212\n",
      "Epoch 43/100\n",
      "3010/3010 [==============================] - 152s 50ms/step - loss: 0.7483 - accuracy: 0.8250\n",
      "Epoch 44/100\n",
      "3010/3010 [==============================] - 155s 51ms/step - loss: 0.7314 - accuracy: 0.8295\n",
      "Epoch 45/100\n",
      "3010/3010 [==============================] - 155s 52ms/step - loss: 0.7208 - accuracy: 0.8299\n",
      "Epoch 46/100\n",
      "3010/3010 [==============================] - 157s 52ms/step - loss: 0.7040 - accuracy: 0.8342\n",
      "Epoch 47/100\n",
      "3010/3010 [==============================] - 155s 52ms/step - loss: 0.6910 - accuracy: 0.8378\n",
      "Epoch 48/100\n",
      "3010/3010 [==============================] - 156s 52ms/step - loss: 0.6842 - accuracy: 0.8369\n",
      "Epoch 49/100\n",
      "3010/3010 [==============================] - 154s 51ms/step - loss: 0.6731 - accuracy: 0.8401\n",
      "Epoch 50/100\n",
      "3010/3010 [==============================] - 155s 51ms/step - loss: 0.6635 - accuracy: 0.8411\n",
      "Epoch 51/100\n",
      "3010/3010 [==============================] - 133s 44ms/step - loss: 0.6550 - accuracy: 0.8430\n",
      "Epoch 52/100\n",
      "3010/3010 [==============================] - 76s 25ms/step - loss: 0.6476 - accuracy: 0.8441\n",
      "Epoch 53/100\n",
      "3010/3010 [==============================] - 63s 21ms/step - loss: 0.6342 - accuracy: 0.8479\n",
      "Epoch 54/100\n",
      "3010/3010 [==============================] - 61s 20ms/step - loss: 0.6312 - accuracy: 0.8479\n",
      "Epoch 55/100\n",
      "3010/3010 [==============================] - 62s 20ms/step - loss: 0.6252 - accuracy: 0.8482\n",
      "Epoch 56/100\n",
      "3010/3010 [==============================] - 62s 21ms/step - loss: 0.6155 - accuracy: 0.8508\n",
      "Epoch 57/100\n",
      "3010/3010 [==============================] - 61s 20ms/step - loss: 0.6091 - accuracy: 0.8519\n",
      "Epoch 58/100\n",
      "3010/3010 [==============================] - 62s 21ms/step - loss: 0.6066 - accuracy: 0.8522\n",
      "Epoch 59/100\n",
      "3010/3010 [==============================] - 63s 21ms/step - loss: 0.5984 - accuracy: 0.8535\n",
      "Epoch 60/100\n",
      "3010/3010 [==============================] - 67s 22ms/step - loss: 0.5910 - accuracy: 0.8556\n",
      "Epoch 61/100\n",
      "3010/3010 [==============================] - 63s 21ms/step - loss: 0.5855 - accuracy: 0.8568\n",
      "Epoch 62/100\n",
      "3010/3010 [==============================] - 65s 22ms/step - loss: 0.5844 - accuracy: 0.8555\n",
      "Epoch 63/100\n",
      "3010/3010 [==============================] - 67s 22ms/step - loss: 0.5800 - accuracy: 0.8562\n",
      "Epoch 64/100\n",
      "3010/3010 [==============================] - 65s 22ms/step - loss: 0.5744 - accuracy: 0.8581\n",
      "Epoch 65/100\n",
      "3010/3010 [==============================] - 62s 21ms/step - loss: 0.5709 - accuracy: 0.8580\n",
      "Epoch 66/100\n",
      "3010/3010 [==============================] - 65s 22ms/step - loss: 0.5661 - accuracy: 0.8592\n",
      "Epoch 67/100\n",
      "3010/3010 [==============================] - 64s 21ms/step - loss: 0.5633 - accuracy: 0.8600\n",
      "Epoch 68/100\n",
      "3010/3010 [==============================] - 64s 21ms/step - loss: 0.5582 - accuracy: 0.8618\n",
      "Epoch 69/100\n",
      "3010/3010 [==============================] - 64s 21ms/step - loss: 0.5577 - accuracy: 0.8601\n",
      "Epoch 70/100\n",
      "3010/3010 [==============================] - 121s 40ms/step - loss: 0.5507 - accuracy: 0.8631\n",
      "Epoch 71/100\n",
      "3010/3010 [==============================] - 116s 39ms/step - loss: 0.5468 - accuracy: 0.8633\n",
      "Epoch 72/100\n",
      "3010/3010 [==============================] - 68s 23ms/step - loss: 0.5524 - accuracy: 0.8603\n",
      "Epoch 73/100\n",
      "3010/3010 [==============================] - 73s 24ms/step - loss: 0.5451 - accuracy: 0.8629\n",
      "Epoch 74/100\n",
      "3010/3010 [==============================] - 91s 30ms/step - loss: 0.5439 - accuracy: 0.8623\n",
      "Epoch 75/100\n",
      "3010/3010 [==============================] - 78s 26ms/step - loss: 0.5452 - accuracy: 0.8619\n",
      "Epoch 76/100\n",
      "3010/3010 [==============================] - 69s 23ms/step - loss: 0.5375 - accuracy: 0.8637\n",
      "Epoch 77/100\n",
      "3010/3010 [==============================] - 67s 22ms/step - loss: 0.5427 - accuracy: 0.8617\n",
      "Epoch 78/100\n",
      "3010/3010 [==============================] - 65s 22ms/step - loss: 0.5334 - accuracy: 0.8648\n",
      "Epoch 79/100\n",
      "3010/3010 [==============================] - 65s 22ms/step - loss: 0.5380 - accuracy: 0.8630\n",
      "Epoch 80/100\n",
      "3010/3010 [==============================] - 66s 22ms/step - loss: 0.5310 - accuracy: 0.8649\n",
      "Epoch 81/100\n",
      "3010/3010 [==============================] - 65s 22ms/step - loss: 0.5280 - accuracy: 0.8651\n",
      "Epoch 82/100\n",
      "3010/3010 [==============================] - 64s 21ms/step - loss: 0.5317 - accuracy: 0.8637\n",
      "Epoch 83/100\n",
      "3010/3010 [==============================] - 65s 21ms/step - loss: 0.5277 - accuracy: 0.8650\n",
      "Epoch 84/100\n",
      "3010/3010 [==============================] - 70s 23ms/step - loss: 0.5262 - accuracy: 0.8646\n",
      "Epoch 85/100\n",
      "3010/3010 [==============================] - 67s 22ms/step - loss: 0.5246 - accuracy: 0.8656\n",
      "Epoch 86/100\n",
      "3010/3010 [==============================] - 68s 23ms/step - loss: 0.5241 - accuracy: 0.8650\n",
      "Epoch 87/100\n",
      "3010/3010 [==============================] - 67s 22ms/step - loss: 0.5192 - accuracy: 0.8656\n",
      "Epoch 88/100\n",
      "3010/3010 [==============================] - 67s 22ms/step - loss: 0.5196 - accuracy: 0.8654\n",
      "Epoch 89/100\n",
      "3010/3010 [==============================] - 68s 23ms/step - loss: 0.5192 - accuracy: 0.8658\n",
      "Epoch 90/100\n",
      "3010/3010 [==============================] - 67s 22ms/step - loss: 0.5185 - accuracy: 0.8658\n",
      "Epoch 91/100\n",
      "3010/3010 [==============================] - 70s 23ms/step - loss: 0.5196 - accuracy: 0.8648\n",
      "Epoch 92/100\n",
      "3010/3010 [==============================] - 68s 22ms/step - loss: 0.5177 - accuracy: 0.8657\n",
      "Epoch 93/100\n",
      "3010/3010 [==============================] - 68s 22ms/step - loss: 0.5170 - accuracy: 0.8654\n",
      "Epoch 94/100\n",
      "3010/3010 [==============================] - 69s 23ms/step - loss: 0.5134 - accuracy: 0.8657\n",
      "Epoch 95/100\n",
      "3010/3010 [==============================] - 67s 22ms/step - loss: 0.5119 - accuracy: 0.8672\n",
      "Epoch 96/100\n",
      "3010/3010 [==============================] - 67s 22ms/step - loss: 0.5156 - accuracy: 0.8641\n",
      "Epoch 97/100\n",
      "3010/3010 [==============================] - 67s 22ms/step - loss: 0.5086 - accuracy: 0.8679\n",
      "Epoch 98/100\n",
      "3010/3010 [==============================] - 68s 23ms/step - loss: 0.5115 - accuracy: 0.8661\n",
      "Epoch 99/100\n",
      "3010/3010 [==============================] - 69s 23ms/step - loss: 0.5096 - accuracy: 0.8667\n",
      "Epoch 100/100\n",
      "3010/3010 [==============================] - 67s 22ms/step - loss: 0.5075 - accuracy: 0.8672\n"
     ]
    },
    {
     "data": {
      "text/plain": [
       "<keras.src.callbacks.History at 0x1cff9645390>"
      ]
     },
     "execution_count": 9,
     "metadata": {},
     "output_type": "execute_result"
    }
   ],
   "source": [
    "model.compile(loss = 'categorical_crossentropy',optimizer='adam',metrics=['accuracy'])\n",
    "model.fit(X,y,epochs=100,verbose=1)"
   ]
  },
  {
   "cell_type": "code",
   "execution_count": 10,
   "metadata": {},
   "outputs": [
    {
     "name": "stdout",
     "output_type": "stream",
     "text": [
      "1/1 [==============================] - 1s 863ms/step\n",
      "1/1 [==============================] - 0s 39ms/step\n",
      "1/1 [==============================] - 0s 37ms/step\n",
      "I will leave if they will but he\n"
     ]
    }
   ],
   "source": [
    "seed_text = \"I will leave if they\"\n",
    "next_words = 3\n",
    "\n",
    "for _ in range(next_words):\n",
    "    token_list = tokenizer.texts_to_sequences([seed_text])[0]\n",
    "    token_list = pad_sequences([token_list],maxlen = max_sequence_len -1,padding = \"pre\")\n",
    "    predicted = np.argmax(model.predict(token_list),axis = -1)\n",
    "    output_word = \"\"\n",
    "    for word,index in tokenizer.word_index.items():\n",
    "        if index == predicted:\n",
    "            output_word = word\n",
    "            break\n",
    "    seed_text += \" \" + output_word\n",
    "\n",
    "print(seed_text)"
   ]
  }
 ],
 "metadata": {
  "kernelspec": {
   "display_name": "Python 3",
   "language": "python",
   "name": "python3"
  },
  "language_info": {
   "codemirror_mode": {
    "name": "ipython",
    "version": 3
   },
   "file_extension": ".py",
   "mimetype": "text/x-python",
   "name": "python",
   "nbconvert_exporter": "python",
   "pygments_lexer": "ipython3",
   "version": "3.11.0"
  }
 },
 "nbformat": 4,
 "nbformat_minor": 2
}
